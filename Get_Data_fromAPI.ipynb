{
 "cells": [
  {
   "cell_type": "code",
   "execution_count": 78,
   "metadata": {},
   "outputs": [],
   "source": [
    "import pandas as pd\n",
    "import json\n",
    "import requests\n",
    "import datetime as dt\n",
    "from datetime import date\n",
    "from dateutil.parser import *"
   ]
  },
  {
   "cell_type": "code",
   "execution_count": 3,
   "metadata": {},
   "outputs": [],
   "source": [
    "url = \"https://services.arcgis.com/afSMGVsC7QlRK1kZ/arcgis/rest/services/Police_Use_of_Force/FeatureServer/0/query?where=1%3D1&outFields=*&outSR=4326&f=json\""
   ]
  },
  {
   "cell_type": "code",
   "execution_count": 4,
   "metadata": {},
   "outputs": [],
   "source": [
    "response = requests.get(url)"
   ]
  },
  {
   "cell_type": "code",
   "execution_count": 5,
   "metadata": {},
   "outputs": [],
   "source": [
    "response_json = response.json()"
   ]
  },
  {
   "cell_type": "code",
   "execution_count": 8,
   "metadata": {
    "scrolled": true
   },
   "outputs": [
    {
     "data": {
      "text/plain": [
       "dict_keys(['objectIdFieldName', 'uniqueIdField', 'globalIdFieldName', 'geometryType', 'spatialReference', 'fields', 'features'])"
      ]
     },
     "execution_count": 8,
     "metadata": {},
     "output_type": "execute_result"
    }
   ],
   "source": [
    "response_json.keys()"
   ]
  },
  {
   "cell_type": "code",
   "execution_count": 28,
   "metadata": {},
   "outputs": [
    {
     "data": {
      "text/plain": [
       "[{'name': 'PoliceUseOfForceID',\n",
       "  'type': 'esriFieldTypeInteger',\n",
       "  'alias': 'PoliceUseOfForceID',\n",
       "  'sqlType': 'sqlTypeOther',\n",
       "  'domain': None,\n",
       "  'defaultValue': None},\n",
       " {'name': 'CaseNumber',\n",
       "  'type': 'esriFieldTypeString',\n",
       "  'alias': 'CaseNumber',\n",
       "  'sqlType': 'sqlTypeOther',\n",
       "  'length': 100,\n",
       "  'domain': None,\n",
       "  'defaultValue': None},\n",
       " {'name': 'ResponseDate',\n",
       "  'type': 'esriFieldTypeDate',\n",
       "  'alias': 'ResponseDate',\n",
       "  'sqlType': 'sqlTypeOther',\n",
       "  'length': 8,\n",
       "  'domain': None,\n",
       "  'defaultValue': None},\n",
       " {'name': 'Problem',\n",
       "  'type': 'esriFieldTypeString',\n",
       "  'alias': 'Problem',\n",
       "  'sqlType': 'sqlTypeOther',\n",
       "  'length': 400,\n",
       "  'domain': None,\n",
       "  'defaultValue': None},\n",
       " {'name': 'Is911Call',\n",
       "  'type': 'esriFieldTypeString',\n",
       "  'alias': 'Is911Call',\n",
       "  'sqlType': 'sqlTypeOther',\n",
       "  'length': 3,\n",
       "  'domain': None,\n",
       "  'defaultValue': None},\n",
       " {'name': 'PrimaryOffense',\n",
       "  'type': 'esriFieldTypeString',\n",
       "  'alias': 'PrimaryOffense',\n",
       "  'sqlType': 'sqlTypeOther',\n",
       "  'length': 8,\n",
       "  'domain': None,\n",
       "  'defaultValue': None},\n",
       " {'name': 'SubjectInjury',\n",
       "  'type': 'esriFieldTypeString',\n",
       "  'alias': 'SubjectInjury',\n",
       "  'sqlType': 'sqlTypeOther',\n",
       "  'length': 3,\n",
       "  'domain': None,\n",
       "  'defaultValue': None},\n",
       " {'name': 'ForceReportNumber',\n",
       "  'type': 'esriFieldTypeInteger',\n",
       "  'alias': 'ForceReportNumber',\n",
       "  'sqlType': 'sqlTypeOther',\n",
       "  'domain': None,\n",
       "  'defaultValue': None},\n",
       " {'name': 'SubjectRole',\n",
       "  'type': 'esriFieldTypeString',\n",
       "  'alias': 'SubjectRole',\n",
       "  'sqlType': 'sqlTypeOther',\n",
       "  'length': 100,\n",
       "  'domain': None,\n",
       "  'defaultValue': None},\n",
       " {'name': 'SubjectRoleNumber',\n",
       "  'type': 'esriFieldTypeInteger',\n",
       "  'alias': 'SubjectRoleNumber',\n",
       "  'sqlType': 'sqlTypeOther',\n",
       "  'domain': None,\n",
       "  'defaultValue': None},\n",
       " {'name': 'ForceType',\n",
       "  'type': 'esriFieldTypeString',\n",
       "  'alias': 'ForceType',\n",
       "  'sqlType': 'sqlTypeOther',\n",
       "  'length': 100,\n",
       "  'domain': None,\n",
       "  'defaultValue': None},\n",
       " {'name': 'ForceTypeAction',\n",
       "  'type': 'esriFieldTypeString',\n",
       "  'alias': 'ForceTypeAction',\n",
       "  'sqlType': 'sqlTypeOther',\n",
       "  'length': 100,\n",
       "  'domain': None,\n",
       "  'defaultValue': None},\n",
       " {'name': 'Race',\n",
       "  'type': 'esriFieldTypeString',\n",
       "  'alias': 'Race',\n",
       "  'sqlType': 'sqlTypeOther',\n",
       "  'length': 50,\n",
       "  'domain': None,\n",
       "  'defaultValue': None},\n",
       " {'name': 'Sex',\n",
       "  'type': 'esriFieldTypeString',\n",
       "  'alias': 'Sex',\n",
       "  'sqlType': 'sqlTypeOther',\n",
       "  'length': 50,\n",
       "  'domain': None,\n",
       "  'defaultValue': None},\n",
       " {'name': 'EventAge',\n",
       "  'type': 'esriFieldTypeInteger',\n",
       "  'alias': 'EventAge',\n",
       "  'sqlType': 'sqlTypeOther',\n",
       "  'domain': None,\n",
       "  'defaultValue': None},\n",
       " {'name': 'TypeOfResistance',\n",
       "  'type': 'esriFieldTypeString',\n",
       "  'alias': 'TypeOfResistance',\n",
       "  'sqlType': 'sqlTypeOther',\n",
       "  'length': 79,\n",
       "  'domain': None,\n",
       "  'defaultValue': None},\n",
       " {'name': 'Precinct',\n",
       "  'type': 'esriFieldTypeString',\n",
       "  'alias': 'Precinct',\n",
       "  'sqlType': 'sqlTypeOther',\n",
       "  'length': 2,\n",
       "  'domain': None,\n",
       "  'defaultValue': None},\n",
       " {'name': 'Neighborhood',\n",
       "  'type': 'esriFieldTypeString',\n",
       "  'alias': 'Neighborhood',\n",
       "  'sqlType': 'sqlTypeOther',\n",
       "  'length': 100,\n",
       "  'domain': None,\n",
       "  'defaultValue': None},\n",
       " {'name': 'TotalCityCallsForYear',\n",
       "  'type': 'esriFieldTypeInteger',\n",
       "  'alias': 'TotalCityCallsForYear',\n",
       "  'sqlType': 'sqlTypeOther',\n",
       "  'domain': None,\n",
       "  'defaultValue': None},\n",
       " {'name': 'TotalPrecinctCallsForYear',\n",
       "  'type': 'esriFieldTypeInteger',\n",
       "  'alias': 'TotalPrecinctCallsForYear',\n",
       "  'sqlType': 'sqlTypeOther',\n",
       "  'domain': None,\n",
       "  'defaultValue': None},\n",
       " {'name': 'TotalNeighborhoodCallsForYear',\n",
       "  'type': 'esriFieldTypeInteger',\n",
       "  'alias': 'TotalNeighborhoodCallsForYear',\n",
       "  'sqlType': 'sqlTypeOther',\n",
       "  'domain': None,\n",
       "  'defaultValue': None},\n",
       " {'name': 'CenterGBSID',\n",
       "  'type': 'esriFieldTypeInteger',\n",
       "  'alias': 'CenterGBSID',\n",
       "  'sqlType': 'sqlTypeOther',\n",
       "  'domain': None,\n",
       "  'defaultValue': None},\n",
       " {'name': 'CenterLatitude',\n",
       "  'type': 'esriFieldTypeDouble',\n",
       "  'alias': 'CenterLatitude',\n",
       "  'sqlType': 'sqlTypeOther',\n",
       "  'domain': None,\n",
       "  'defaultValue': None},\n",
       " {'name': 'CenterLongitude',\n",
       "  'type': 'esriFieldTypeDouble',\n",
       "  'alias': 'CenterLongitude',\n",
       "  'sqlType': 'sqlTypeOther',\n",
       "  'domain': None,\n",
       "  'defaultValue': None},\n",
       " {'name': 'CenterX',\n",
       "  'type': 'esriFieldTypeDouble',\n",
       "  'alias': 'CenterX',\n",
       "  'sqlType': 'sqlTypeOther',\n",
       "  'domain': None,\n",
       "  'defaultValue': None},\n",
       " {'name': 'CenterY',\n",
       "  'type': 'esriFieldTypeDouble',\n",
       "  'alias': 'CenterY',\n",
       "  'sqlType': 'sqlTypeOther',\n",
       "  'domain': None,\n",
       "  'defaultValue': None},\n",
       " {'name': 'DateAdded',\n",
       "  'type': 'esriFieldTypeDate',\n",
       "  'alias': 'DateAdded',\n",
       "  'sqlType': 'sqlTypeOther',\n",
       "  'length': 8,\n",
       "  'domain': None,\n",
       "  'defaultValue': None},\n",
       " {'name': 'OBJECTID',\n",
       "  'type': 'esriFieldTypeOID',\n",
       "  'alias': 'OBJECTID',\n",
       "  'sqlType': 'sqlTypeOther',\n",
       "  'domain': None,\n",
       "  'defaultValue': None}]"
      ]
     },
     "execution_count": 28,
     "metadata": {},
     "output_type": "execute_result"
    }
   ],
   "source": [
    "response_json['fields']"
   ]
  },
  {
   "cell_type": "code",
   "execution_count": null,
   "metadata": {},
   "outputs": [],
   "source": []
  },
  {
   "cell_type": "code",
   "execution_count": null,
   "metadata": {},
   "outputs": [],
   "source": []
  },
  {
   "cell_type": "code",
   "execution_count": 18,
   "metadata": {},
   "outputs": [
    {
     "data": {
      "text/plain": [
       "33721"
      ]
     },
     "execution_count": 18,
     "metadata": {},
     "output_type": "execute_result"
    }
   ],
   "source": [
    "len(response_json[\"features\"])"
   ]
  },
  {
   "cell_type": "code",
   "execution_count": 21,
   "metadata": {},
   "outputs": [
    {
     "data": {
      "text/plain": [
       "dict_keys(['PoliceUseOfForceID', 'CaseNumber', 'ResponseDate', 'Problem', 'Is911Call', 'PrimaryOffense', 'SubjectInjury', 'ForceReportNumber', 'SubjectRole', 'SubjectRoleNumber', 'ForceType', 'ForceTypeAction', 'Race', 'Sex', 'EventAge', 'TypeOfResistance', 'Precinct', 'Neighborhood', 'TotalCityCallsForYear', 'TotalPrecinctCallsForYear', 'TotalNeighborhoodCallsForYear', 'CenterGBSID', 'CenterLatitude', 'CenterLongitude', 'CenterX', 'CenterY', 'DateAdded', 'OBJECTID'])"
      ]
     },
     "execution_count": 21,
     "metadata": {},
     "output_type": "execute_result"
    }
   ],
   "source": [
    "response_json[\"features\"][0]['attributes'].keys()"
   ]
  },
  {
   "cell_type": "code",
   "execution_count": 111,
   "metadata": {
    "scrolled": true
   },
   "outputs": [],
   "source": [
    "new_dict = {}\n",
    "for field in response_json[\"features\"][0]['attributes'].keys():\n",
    "    new_dict[field] = []\n",
    "for index in range(len(response_json[\"features\"])):\n",
    "    a = response_json[\"features\"][index]['attributes']\n",
    "    for key in response_json[\"features\"][index]['attributes']:\n",
    "#         print(key, a[key])\n",
    "        if key == 'ResponseDate':\n",
    "            d = datetime.datetime.fromtimestamp(a[key]/1000)\n",
    "            e = d.strftime('%Y-%m-%d %H:%M:%S')\n",
    "            new_dict[key].append(e)\n",
    "        else:\n",
    "            new_dict[key].append(a[key])\n",
    "    if index > 10000:\n",
    "        break\n",
    "df = pd.DataFrame(new_dict)"
   ]
  },
  {
   "cell_type": "code",
   "execution_count": 112,
   "metadata": {},
   "outputs": [
    {
     "data": {
      "text/html": [
       "<div>\n",
       "<style scoped>\n",
       "    .dataframe tbody tr th:only-of-type {\n",
       "        vertical-align: middle;\n",
       "    }\n",
       "\n",
       "    .dataframe tbody tr th {\n",
       "        vertical-align: top;\n",
       "    }\n",
       "\n",
       "    .dataframe thead th {\n",
       "        text-align: right;\n",
       "    }\n",
       "</style>\n",
       "<table border=\"1\" class=\"dataframe\">\n",
       "  <thead>\n",
       "    <tr style=\"text-align: right;\">\n",
       "      <th></th>\n",
       "      <th>PoliceUseOfForceID</th>\n",
       "      <th>CaseNumber</th>\n",
       "      <th>ResponseDate</th>\n",
       "      <th>Problem</th>\n",
       "      <th>Is911Call</th>\n",
       "      <th>PrimaryOffense</th>\n",
       "      <th>SubjectInjury</th>\n",
       "      <th>ForceReportNumber</th>\n",
       "      <th>SubjectRole</th>\n",
       "      <th>SubjectRoleNumber</th>\n",
       "      <th>...</th>\n",
       "      <th>TotalCityCallsForYear</th>\n",
       "      <th>TotalPrecinctCallsForYear</th>\n",
       "      <th>TotalNeighborhoodCallsForYear</th>\n",
       "      <th>CenterGBSID</th>\n",
       "      <th>CenterLatitude</th>\n",
       "      <th>CenterLongitude</th>\n",
       "      <th>CenterX</th>\n",
       "      <th>CenterY</th>\n",
       "      <th>DateAdded</th>\n",
       "      <th>OBJECTID</th>\n",
       "    </tr>\n",
       "  </thead>\n",
       "  <tbody>\n",
       "    <tr>\n",
       "      <th>0</th>\n",
       "      <td>24375067</td>\n",
       "      <td>08-003643</td>\n",
       "      <td>2008-01-04 04:40:37</td>\n",
       "      <td>Suspicious Vehicle</td>\n",
       "      <td>No</td>\n",
       "      <td>AOA</td>\n",
       "      <td>No</td>\n",
       "      <td>1</td>\n",
       "      <td>OT</td>\n",
       "      <td>1</td>\n",
       "      <td>...</td>\n",
       "      <td>322402</td>\n",
       "      <td>55689</td>\n",
       "      <td>841</td>\n",
       "      <td>18837</td>\n",
       "      <td>44.925909</td>\n",
       "      <td>-93.296905</td>\n",
       "      <td>-1.038576e+07</td>\n",
       "      <td>5.609865e+06</td>\n",
       "      <td>1626509939000</td>\n",
       "      <td>1</td>\n",
       "    </tr>\n",
       "    <tr>\n",
       "      <th>1</th>\n",
       "      <td>24375068</td>\n",
       "      <td>08-010291</td>\n",
       "      <td>2008-01-10 16:21:53</td>\n",
       "      <td>Motor Vehicle Chase</td>\n",
       "      <td>No</td>\n",
       "      <td>FLEE</td>\n",
       "      <td>Yes</td>\n",
       "      <td>6</td>\n",
       "      <td>A</td>\n",
       "      <td>1</td>\n",
       "      <td>...</td>\n",
       "      <td>322402</td>\n",
       "      <td>84018</td>\n",
       "      <td>10923</td>\n",
       "      <td>11907</td>\n",
       "      <td>44.943185</td>\n",
       "      <td>-93.265782</td>\n",
       "      <td>-1.038230e+07</td>\n",
       "      <td>5.612582e+06</td>\n",
       "      <td>1626509939000</td>\n",
       "      <td>2</td>\n",
       "    </tr>\n",
       "    <tr>\n",
       "      <th>2</th>\n",
       "      <td>24375069</td>\n",
       "      <td>08-018909</td>\n",
       "      <td>2008-01-19 16:04:01</td>\n",
       "      <td>Suspected Hazard</td>\n",
       "      <td>No</td>\n",
       "      <td>ASLT5</td>\n",
       "      <td>Yes</td>\n",
       "      <td>1</td>\n",
       "      <td>A</td>\n",
       "      <td>1</td>\n",
       "      <td>...</td>\n",
       "      <td>322402</td>\n",
       "      <td>46998</td>\n",
       "      <td>23458</td>\n",
       "      <td>17476</td>\n",
       "      <td>44.978407</td>\n",
       "      <td>-93.278819</td>\n",
       "      <td>-1.038375e+07</td>\n",
       "      <td>5.618123e+06</td>\n",
       "      <td>1626509939000</td>\n",
       "      <td>3</td>\n",
       "    </tr>\n",
       "    <tr>\n",
       "      <th>3</th>\n",
       "      <td>24375070</td>\n",
       "      <td>08-032626</td>\n",
       "      <td>2008-02-02 16:40:31</td>\n",
       "      <td>Motor Vehicle Chase</td>\n",
       "      <td>No</td>\n",
       "      <td>FLEE</td>\n",
       "      <td>Yes</td>\n",
       "      <td>2</td>\n",
       "      <td>A</td>\n",
       "      <td>1</td>\n",
       "      <td>...</td>\n",
       "      <td>322402</td>\n",
       "      <td>80434</td>\n",
       "      <td>10077</td>\n",
       "      <td>16331</td>\n",
       "      <td>44.984396</td>\n",
       "      <td>-93.304503</td>\n",
       "      <td>-1.038661e+07</td>\n",
       "      <td>5.619065e+06</td>\n",
       "      <td>1626509939000</td>\n",
       "      <td>4</td>\n",
       "    </tr>\n",
       "    <tr>\n",
       "      <th>4</th>\n",
       "      <td>24375071</td>\n",
       "      <td>08-038886</td>\n",
       "      <td>2008-02-08 20:11:03</td>\n",
       "      <td>Fight</td>\n",
       "      <td>No</td>\n",
       "      <td>DISCON</td>\n",
       "      <td>None</td>\n",
       "      <td>2</td>\n",
       "      <td>A</td>\n",
       "      <td>2</td>\n",
       "      <td>...</td>\n",
       "      <td>322402</td>\n",
       "      <td>46998</td>\n",
       "      <td>23458</td>\n",
       "      <td>25832</td>\n",
       "      <td>44.979626</td>\n",
       "      <td>-93.272499</td>\n",
       "      <td>-1.038305e+07</td>\n",
       "      <td>5.618315e+06</td>\n",
       "      <td>1626509939000</td>\n",
       "      <td>5</td>\n",
       "    </tr>\n",
       "  </tbody>\n",
       "</table>\n",
       "<p>5 rows × 28 columns</p>\n",
       "</div>"
      ],
      "text/plain": [
       "   PoliceUseOfForceID CaseNumber         ResponseDate               Problem  \\\n",
       "0            24375067  08-003643  2008-01-04 04:40:37   Suspicious Vehicle    \n",
       "1            24375068  08-010291  2008-01-10 16:21:53  Motor Vehicle Chase    \n",
       "2            24375069  08-018909  2008-01-19 16:04:01     Suspected Hazard    \n",
       "3            24375070  08-032626  2008-02-02 16:40:31  Motor Vehicle Chase    \n",
       "4            24375071  08-038886  2008-02-08 20:11:03                Fight    \n",
       "\n",
       "  Is911Call PrimaryOffense SubjectInjury  ForceReportNumber SubjectRole  \\\n",
       "0        No            AOA            No                  1          OT   \n",
       "1        No           FLEE           Yes                  6           A   \n",
       "2        No          ASLT5           Yes                  1           A   \n",
       "3        No           FLEE           Yes                  2           A   \n",
       "4        No         DISCON          None                  2           A   \n",
       "\n",
       "   SubjectRoleNumber  ... TotalCityCallsForYear TotalPrecinctCallsForYear  \\\n",
       "0                  1  ...                322402                     55689   \n",
       "1                  1  ...                322402                     84018   \n",
       "2                  1  ...                322402                     46998   \n",
       "3                  1  ...                322402                     80434   \n",
       "4                  2  ...                322402                     46998   \n",
       "\n",
       "  TotalNeighborhoodCallsForYear CenterGBSID  CenterLatitude CenterLongitude  \\\n",
       "0                           841       18837       44.925909      -93.296905   \n",
       "1                         10923       11907       44.943185      -93.265782   \n",
       "2                         23458       17476       44.978407      -93.278819   \n",
       "3                         10077       16331       44.984396      -93.304503   \n",
       "4                         23458       25832       44.979626      -93.272499   \n",
       "\n",
       "        CenterX       CenterY      DateAdded  OBJECTID  \n",
       "0 -1.038576e+07  5.609865e+06  1626509939000         1  \n",
       "1 -1.038230e+07  5.612582e+06  1626509939000         2  \n",
       "2 -1.038375e+07  5.618123e+06  1626509939000         3  \n",
       "3 -1.038661e+07  5.619065e+06  1626509939000         4  \n",
       "4 -1.038305e+07  5.618315e+06  1626509939000         5  \n",
       "\n",
       "[5 rows x 28 columns]"
      ]
     },
     "execution_count": 112,
     "metadata": {},
     "output_type": "execute_result"
    }
   ],
   "source": [
    "df.head()"
   ]
  },
  {
   "cell_type": "code",
   "execution_count": 113,
   "metadata": {},
   "outputs": [
    {
     "data": {
      "text/plain": [
       "Suspicious Person              1976\n",
       "Fight                          1117\n",
       "Disturbance                     836\n",
       "Domestic Abuse-In Progress      589\n",
       "Suspicious Vehicle              499\n",
       "                               ... \n",
       "Kidnapping/Abduction              1\n",
       "PI w/trapped                      1\n",
       "Aircraft Crash in City            1\n",
       "Down Outide-One w/Fire            1\n",
       "Overdose-Accidental               1\n",
       "Name: Problem, Length: 95, dtype: int64"
      ]
     },
     "execution_count": 113,
     "metadata": {},
     "output_type": "execute_result"
    }
   ],
   "source": [
    "df.Problem.value_counts()"
   ]
  },
  {
   "cell_type": "code",
   "execution_count": 117,
   "metadata": {},
   "outputs": [
    {
     "data": {
      "text/plain": [
       "OBSTRU    2133\n",
       "DISCON    1250\n",
       "ASLT4      838\n",
       "NARC       535\n",
       "FORCE      531\n",
       "          ... \n",
       "HOUSNG       1\n",
       "XSOUND       1\n",
       "IPROST       1\n",
       "OBNARC       1\n",
       "INCEND       1\n",
       "Name: PrimaryOffense, Length: 164, dtype: int64"
      ]
     },
     "execution_count": 117,
     "metadata": {},
     "output_type": "execute_result"
    }
   ],
   "source": [
    "df.PrimaryOffense.value_counts()"
   ]
  },
  {
   "cell_type": "code",
   "execution_count": 116,
   "metadata": {},
   "outputs": [
    {
     "data": {
      "text/plain": [
       "Downtown West           2770\n",
       "Jordan                   542\n",
       "Hawthorne                473\n",
       "Near - North             420\n",
       "Willard - Hay            403\n",
       "                        ... \n",
       "Kenwood                    6\n",
       "Bryn - Mawr                5\n",
       "Armatage                   2\n",
       "Cedar - Isles - Dean       1\n",
       "Kenny                      1\n",
       "Name: Neighborhood, Length: 86, dtype: int64"
      ]
     },
     "execution_count": 116,
     "metadata": {},
     "output_type": "execute_result"
    }
   ],
   "source": [
    "df.Neighborhood.value_counts()"
   ]
  },
  {
   "cell_type": "code",
   "execution_count": 115,
   "metadata": {},
   "outputs": [
    {
     "data": {
      "text/plain": [
       "Black                 0.627375\n",
       "White                 0.241952\n",
       "Native American       0.051690\n",
       "Other / Mixed Race    0.044991\n",
       "Asian                 0.017796\n",
       "Unknown               0.008798\n",
       "not recorded          0.007099\n",
       "Pacific Islander      0.000300\n",
       "Name: Race, dtype: float64"
      ]
     },
     "execution_count": 115,
     "metadata": {},
     "output_type": "execute_result"
    }
   ],
   "source": [
    "df.Race.value_counts(1)"
   ]
  },
  {
   "cell_type": "code",
   "execution_count": null,
   "metadata": {},
   "outputs": [],
   "source": []
  },
  {
   "cell_type": "code",
   "execution_count": null,
   "metadata": {},
   "outputs": [],
   "source": []
  },
  {
   "cell_type": "code",
   "execution_count": 22,
   "metadata": {},
   "outputs": [
    {
     "data": {
      "text/plain": [
       "{'x': -93.2969048626618, 'y': 44.92590912407578}"
      ]
     },
     "execution_count": 22,
     "metadata": {},
     "output_type": "execute_result"
    }
   ],
   "source": [
    "response_json[\"features\"][0]['geometry']"
   ]
  },
  {
   "cell_type": "code",
   "execution_count": 32,
   "metadata": {},
   "outputs": [],
   "source": [
    "b = response_json[\"features\"][0]['attributes']['ResponseDate']"
   ]
  },
  {
   "cell_type": "code",
   "execution_count": null,
   "metadata": {},
   "outputs": [],
   "source": [
    "# Map Data Table - CaseNumber, Lat, Long, Neighborhood, Precinct\n",
    "# Incident Data Table - everything else"
   ]
  },
  {
   "cell_type": "code",
   "execution_count": 29,
   "metadata": {},
   "outputs": [],
   "source": [
    "a = \"1/4/2008, 4:40 AM\""
   ]
  },
  {
   "cell_type": "code",
   "execution_count": 31,
   "metadata": {},
   "outputs": [
    {
     "data": {
      "text/plain": [
       "datetime.datetime(2008, 1, 4, 4, 40)"
      ]
     },
     "execution_count": 31,
     "metadata": {},
     "output_type": "execute_result"
    }
   ],
   "source": [
    "parse(a)"
   ]
  },
  {
   "cell_type": "code",
   "execution_count": 51,
   "metadata": {},
   "outputs": [
    {
     "data": {
      "text/plain": [
       "datetime.datetime(2008, 1, 10, 16, 21, 53)"
      ]
     },
     "execution_count": 51,
     "metadata": {},
     "output_type": "execute_result"
    }
   ],
   "source": [
    "dt.datetime.fromtimestamp(b/1000)"
   ]
  },
  {
   "cell_type": "code",
   "execution_count": 53,
   "metadata": {},
   "outputs": [
    {
     "name": "stdout",
     "output_type": "stream",
     "text": [
      "2008-01-10 16:21:53\n"
     ]
    }
   ],
   "source": [
    "import datetime\n",
    "d = datetime.datetime.fromtimestamp(b/1000)\n",
    "print(d.strftime('%Y-%m-%d %H:%M:%S'))"
   ]
  },
  {
   "cell_type": "code",
   "execution_count": 55,
   "metadata": {},
   "outputs": [
    {
     "data": {
      "text/plain": [
       "16"
      ]
     },
     "execution_count": 55,
     "metadata": {},
     "output_type": "execute_result"
    }
   ],
   "source": [
    "d.hour"
   ]
  },
  {
   "cell_type": "code",
   "execution_count": 57,
   "metadata": {
    "scrolled": true
   },
   "outputs": [
    {
     "data": {
      "text/plain": [
       "3"
      ]
     },
     "execution_count": 57,
     "metadata": {},
     "output_type": "execute_result"
    }
   ],
   "source": [
    "d.weekday()"
   ]
  },
  {
   "cell_type": "code",
   "execution_count": 59,
   "metadata": {},
   "outputs": [],
   "source": [
    "b=1199330424000"
   ]
  },
  {
   "cell_type": "code",
   "execution_count": 60,
   "metadata": {},
   "outputs": [
    {
     "name": "stdout",
     "output_type": "stream",
     "text": [
      "2008-01-02 21:20:24\n"
     ]
    }
   ],
   "source": [
    "d = datetime.datetime.fromtimestamp(b/1000)\n",
    "print(d.strftime('%Y-%m-%d %H:%M:%S'))"
   ]
  },
  {
   "cell_type": "code",
   "execution_count": 58,
   "metadata": {},
   "outputs": [
    {
     "data": {
      "text/plain": [
       "{'attributes': {'PoliceUseOfForceID': 24375567,\n",
       "  'CaseNumber': '08-002346',\n",
       "  'ResponseDate': 1199330424000,\n",
       "  'Problem': 'Theft ',\n",
       "  'Is911Call': 'Yes',\n",
       "  'PrimaryOffense': 'BURGTL',\n",
       "  'SubjectInjury': 'No',\n",
       "  'ForceReportNumber': 1,\n",
       "  'SubjectRole': 'A',\n",
       "  'SubjectRoleNumber': 3,\n",
       "  'ForceType': 'Bodily Force',\n",
       "  'ForceTypeAction': 'Body Weight to Pin',\n",
       "  'Race': 'Asian',\n",
       "  'Sex': 'Male',\n",
       "  'EventAge': 14,\n",
       "  'TypeOfResistance': 'Fled on Foot',\n",
       "  'Precinct': '04',\n",
       "  'Neighborhood': 'Sumner - Glenwood',\n",
       "  'TotalCityCallsForYear': 322402,\n",
       "  'TotalPrecinctCallsForYear': 80434,\n",
       "  'TotalNeighborhoodCallsForYear': 1123,\n",
       "  'CenterGBSID': 16516,\n",
       "  'CenterLatitude': 44.98883,\n",
       "  'CenterLongitude': -93.29104,\n",
       "  'CenterX': -10385111.0281,\n",
       "  'CenterY': 5619763.1442,\n",
       "  'DateAdded': 1626509939000,\n",
       "  'OBJECTID': 501},\n",
       " 'geometry': {'x': -93.29103963820427, 'y': 44.98882983812188}}"
      ]
     },
     "execution_count": 58,
     "metadata": {},
     "output_type": "execute_result"
    }
   ],
   "source": [
    "response_json[\"features\"][500]"
   ]
  }
 ],
 "metadata": {
  "kernelspec": {
   "display_name": "Python 3",
   "language": "python",
   "name": "python3"
  },
  "language_info": {
   "codemirror_mode": {
    "name": "ipython",
    "version": 3
   },
   "file_extension": ".py",
   "mimetype": "text/x-python",
   "name": "python",
   "nbconvert_exporter": "python",
   "pygments_lexer": "ipython3",
   "version": "3.8.5"
  }
 },
 "nbformat": 4,
 "nbformat_minor": 4
}
