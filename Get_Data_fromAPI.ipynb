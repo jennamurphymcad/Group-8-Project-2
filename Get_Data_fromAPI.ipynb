{
 "cells": [
  {
   "cell_type": "code",
   "execution_count": 1,
   "metadata": {},
   "outputs": [],
   "source": [
    "import pandas as pd\n",
    "import json\n",
    "import requests\n",
    "import datetime as datetime\n",
    "from datetime import date\n",
    "from dateutil.parser import *"
   ]
  },
  {
   "cell_type": "code",
   "execution_count": 2,
   "metadata": {},
   "outputs": [],
   "source": [
    "url = \"https://services.arcgis.com/afSMGVsC7QlRK1kZ/arcgis/rest/services/Police_Use_of_Force/FeatureServer/0/query?where=1%3D1&outFields=*&outSR=4326&f=json\""
   ]
  },
  {
   "cell_type": "code",
   "execution_count": 3,
   "metadata": {},
   "outputs": [],
   "source": [
    "response = requests.get(url)"
   ]
  },
  {
   "cell_type": "code",
   "execution_count": 4,
   "metadata": {},
   "outputs": [],
   "source": [
    "response_json = response.json()"
   ]
  },
  {
   "cell_type": "code",
   "execution_count": 5,
   "metadata": {
    "scrolled": true
   },
   "outputs": [
    {
     "data": {
      "text/plain": [
       "dict_keys(['objectIdFieldName', 'uniqueIdField', 'globalIdFieldName', 'geometryType', 'spatialReference', 'fields', 'features'])"
      ]
     },
     "execution_count": 5,
     "metadata": {},
     "output_type": "execute_result"
    }
   ],
   "source": [
    "response_json.keys()"
   ]
  },
  {
   "cell_type": "code",
   "execution_count": null,
   "metadata": {},
   "outputs": [],
   "source": []
  },
  {
   "cell_type": "code",
   "execution_count": null,
   "metadata": {},
   "outputs": [],
   "source": []
  },
  {
   "cell_type": "code",
   "execution_count": null,
   "metadata": {},
   "outputs": [],
   "source": []
  },
  {
   "cell_type": "code",
   "execution_count": 7,
   "metadata": {},
   "outputs": [
    {
     "data": {
      "text/plain": [
       "33753"
      ]
     },
     "execution_count": 7,
     "metadata": {},
     "output_type": "execute_result"
    }
   ],
   "source": [
    "len(response_json[\"features\"])"
   ]
  },
  {
   "cell_type": "code",
   "execution_count": 8,
   "metadata": {},
   "outputs": [
    {
     "data": {
      "text/plain": [
       "dict_keys(['PoliceUseOfForceID', 'CaseNumber', 'ResponseDate', 'Problem', 'Is911Call', 'PrimaryOffense', 'SubjectInjury', 'ForceReportNumber', 'SubjectRole', 'SubjectRoleNumber', 'ForceType', 'ForceTypeAction', 'Race', 'Sex', 'EventAge', 'TypeOfResistance', 'Precinct', 'Neighborhood', 'TotalCityCallsForYear', 'TotalPrecinctCallsForYear', 'TotalNeighborhoodCallsForYear', 'CenterGBSID', 'CenterLatitude', 'CenterLongitude', 'CenterX', 'CenterY', 'DateAdded', 'OBJECTID'])"
      ]
     },
     "execution_count": 8,
     "metadata": {},
     "output_type": "execute_result"
    }
   ],
   "source": [
    "response_json[\"features\"][0]['attributes'].keys()"
   ]
  },
  {
   "cell_type": "code",
   "execution_count": 9,
   "metadata": {
    "scrolled": true
   },
   "outputs": [],
   "source": [
    "new_dict = {}\n",
    "new_dict[\"Year\"] = []\n",
    "new_dict[\"Year-Month\"] = []\n",
    "new_dict[\"Hour\"] = []\n",
    "for field in response_json[\"features\"][0]['attributes'].keys():\n",
    "    new_dict[field] = []\n",
    "for index in range(len(response_json[\"features\"])):\n",
    "    a = response_json[\"features\"][index]['attributes']\n",
    "    for key in response_json[\"features\"][index]['attributes']:\n",
    "#         print(key, a[key])\n",
    "        if key == 'ResponseDate':\n",
    "            d = datetime.datetime.fromtimestamp(a[key]/1000)\n",
    "            e = d.strftime('%Y-%m-%d')\n",
    "            # e = d.strftime('%Y-%m-%d %H:%M:%S')\n",
    "            new_dict[key].append(e)\n",
    "            new_dict[\"Year\"].append(d.strftime('%Y'))\n",
    "            new_dict[\"Year-Month\"].append(d.strftime('%Y-%m'))\n",
    "            new_dict[\"Hour\"].append(d.strftime('%H'))\n",
    "        else:\n",
    "            new_dict[key].append(a[key])\n",
    "    if index > 10000:\n",
    "        break\n",
    "df = pd.DataFrame(new_dict)"
   ]
  },
  {
   "cell_type": "code",
   "execution_count": 8,
   "metadata": {},
   "outputs": [
    {
     "data": {
      "text/html": [
       "<div>\n",
       "<style scoped>\n",
       "    .dataframe tbody tr th:only-of-type {\n",
       "        vertical-align: middle;\n",
       "    }\n",
       "\n",
       "    .dataframe tbody tr th {\n",
       "        vertical-align: top;\n",
       "    }\n",
       "\n",
       "    .dataframe thead th {\n",
       "        text-align: right;\n",
       "    }\n",
       "</style>\n",
       "<table border=\"1\" class=\"dataframe\">\n",
       "  <thead>\n",
       "    <tr style=\"text-align: right;\">\n",
       "      <th></th>\n",
       "      <th>PoliceUseOfForceID</th>\n",
       "      <th>Year</th>\n",
       "      <th>Year-Month</th>\n",
       "      <th>Hour</th>\n",
       "      <th>CaseNumber</th>\n",
       "      <th>ResponseDate</th>\n",
       "      <th>Problem</th>\n",
       "      <th>Is911Call</th>\n",
       "      <th>PrimaryOffense</th>\n",
       "      <th>SubjectInjury</th>\n",
       "      <th>...</th>\n",
       "      <th>TotalCityCallsForYear</th>\n",
       "      <th>TotalPrecinctCallsForYear</th>\n",
       "      <th>TotalNeighborhoodCallsForYear</th>\n",
       "      <th>CenterGBSID</th>\n",
       "      <th>CenterLatitude</th>\n",
       "      <th>CenterLongitude</th>\n",
       "      <th>CenterX</th>\n",
       "      <th>CenterY</th>\n",
       "      <th>DateAdded</th>\n",
       "      <th>OBJECTID</th>\n",
       "    </tr>\n",
       "  </thead>\n",
       "  <tbody>\n",
       "    <tr>\n",
       "      <th>0</th>\n",
       "      <td>24543755</td>\n",
       "      <td>2007</td>\n",
       "      <td>2007-12</td>\n",
       "      <td>19</td>\n",
       "      <td>08-000149</td>\n",
       "      <td>2007-12-31</td>\n",
       "      <td>Code 3</td>\n",
       "      <td>No</td>\n",
       "      <td>MISC</td>\n",
       "      <td>None</td>\n",
       "      <td>...</td>\n",
       "      <td>322402</td>\n",
       "      <td>46998</td>\n",
       "      <td>23458</td>\n",
       "      <td>17121</td>\n",
       "      <td>44.980808</td>\n",
       "      <td>-93.273141</td>\n",
       "      <td>-1.038312e+07</td>\n",
       "      <td>5.618501e+06</td>\n",
       "      <td>1626941998000</td>\n",
       "      <td>1</td>\n",
       "    </tr>\n",
       "    <tr>\n",
       "      <th>1</th>\n",
       "      <td>24543756</td>\n",
       "      <td>2008</td>\n",
       "      <td>2008-01</td>\n",
       "      <td>21</td>\n",
       "      <td>08-002346</td>\n",
       "      <td>2008-01-02</td>\n",
       "      <td>Theft</td>\n",
       "      <td>Yes</td>\n",
       "      <td>BURGTL</td>\n",
       "      <td>No</td>\n",
       "      <td>...</td>\n",
       "      <td>322402</td>\n",
       "      <td>80434</td>\n",
       "      <td>1123</td>\n",
       "      <td>16516</td>\n",
       "      <td>44.988830</td>\n",
       "      <td>-93.291040</td>\n",
       "      <td>-1.038511e+07</td>\n",
       "      <td>5.619763e+06</td>\n",
       "      <td>1626941998000</td>\n",
       "      <td>2</td>\n",
       "    </tr>\n",
       "    <tr>\n",
       "      <th>2</th>\n",
       "      <td>24543757</td>\n",
       "      <td>2008</td>\n",
       "      <td>2008-01</td>\n",
       "      <td>21</td>\n",
       "      <td>08-014491</td>\n",
       "      <td>2008-01-14</td>\n",
       "      <td>Check the Welfare</td>\n",
       "      <td>No</td>\n",
       "      <td>CIC</td>\n",
       "      <td>No</td>\n",
       "      <td>...</td>\n",
       "      <td>322402</td>\n",
       "      <td>80434</td>\n",
       "      <td>2992</td>\n",
       "      <td>10361</td>\n",
       "      <td>45.022277</td>\n",
       "      <td>-93.310208</td>\n",
       "      <td>-1.038724e+07</td>\n",
       "      <td>5.625029e+06</td>\n",
       "      <td>1626941998000</td>\n",
       "      <td>3</td>\n",
       "    </tr>\n",
       "    <tr>\n",
       "      <th>3</th>\n",
       "      <td>24543758</td>\n",
       "      <td>2008</td>\n",
       "      <td>2008-02</td>\n",
       "      <td>18</td>\n",
       "      <td>08-038762</td>\n",
       "      <td>2008-02-08</td>\n",
       "      <td>Recover Vehicle</td>\n",
       "      <td>No</td>\n",
       "      <td>RECVEH</td>\n",
       "      <td>No</td>\n",
       "      <td>...</td>\n",
       "      <td>322402</td>\n",
       "      <td>80434</td>\n",
       "      <td>7483</td>\n",
       "      <td>10416</td>\n",
       "      <td>45.016752</td>\n",
       "      <td>-93.296221</td>\n",
       "      <td>-1.038569e+07</td>\n",
       "      <td>5.624159e+06</td>\n",
       "      <td>1626941998000</td>\n",
       "      <td>4</td>\n",
       "    </tr>\n",
       "    <tr>\n",
       "      <th>4</th>\n",
       "      <td>24543759</td>\n",
       "      <td>2008</td>\n",
       "      <td>2008-02</td>\n",
       "      <td>10</td>\n",
       "      <td>08-054881</td>\n",
       "      <td>2008-02-26</td>\n",
       "      <td>Suspicious Person</td>\n",
       "      <td>No</td>\n",
       "      <td>OBSTRU</td>\n",
       "      <td>No</td>\n",
       "      <td>...</td>\n",
       "      <td>322402</td>\n",
       "      <td>84018</td>\n",
       "      <td>10316</td>\n",
       "      <td>20569</td>\n",
       "      <td>44.963324</td>\n",
       "      <td>-93.265106</td>\n",
       "      <td>-1.038222e+07</td>\n",
       "      <td>5.615749e+06</td>\n",
       "      <td>1626941998000</td>\n",
       "      <td>5</td>\n",
       "    </tr>\n",
       "  </tbody>\n",
       "</table>\n",
       "<p>5 rows × 31 columns</p>\n",
       "</div>"
      ],
      "text/plain": [
       "   PoliceUseOfForceID  Year Year-Month Hour CaseNumber ResponseDate  \\\n",
       "0            24543755  2007    2007-12   19  08-000149   2007-12-31   \n",
       "1            24543756  2008    2008-01   21  08-002346   2008-01-02   \n",
       "2            24543757  2008    2008-01   21  08-014491   2008-01-14   \n",
       "3            24543758  2008    2008-02   18  08-038762   2008-02-08   \n",
       "4            24543759  2008    2008-02   10  08-054881   2008-02-26   \n",
       "\n",
       "              Problem Is911Call PrimaryOffense SubjectInjury  ...  \\\n",
       "0             Code 3         No           MISC          None  ...   \n",
       "1              Theft        Yes         BURGTL            No  ...   \n",
       "2  Check the Welfare         No            CIC            No  ...   \n",
       "3    Recover Vehicle         No         RECVEH            No  ...   \n",
       "4  Suspicious Person         No         OBSTRU            No  ...   \n",
       "\n",
       "   TotalCityCallsForYear TotalPrecinctCallsForYear  \\\n",
       "0                 322402                     46998   \n",
       "1                 322402                     80434   \n",
       "2                 322402                     80434   \n",
       "3                 322402                     80434   \n",
       "4                 322402                     84018   \n",
       "\n",
       "   TotalNeighborhoodCallsForYear CenterGBSID CenterLatitude CenterLongitude  \\\n",
       "0                          23458       17121      44.980808      -93.273141   \n",
       "1                           1123       16516      44.988830      -93.291040   \n",
       "2                           2992       10361      45.022277      -93.310208   \n",
       "3                           7483       10416      45.016752      -93.296221   \n",
       "4                          10316       20569      44.963324      -93.265106   \n",
       "\n",
       "        CenterX       CenterY      DateAdded OBJECTID  \n",
       "0 -1.038312e+07  5.618501e+06  1626941998000        1  \n",
       "1 -1.038511e+07  5.619763e+06  1626941998000        2  \n",
       "2 -1.038724e+07  5.625029e+06  1626941998000        3  \n",
       "3 -1.038569e+07  5.624159e+06  1626941998000        4  \n",
       "4 -1.038222e+07  5.615749e+06  1626941998000        5  \n",
       "\n",
       "[5 rows x 31 columns]"
      ]
     },
     "execution_count": 8,
     "metadata": {},
     "output_type": "execute_result"
    }
   ],
   "source": [
    "df.head()"
   ]
  },
  {
   "cell_type": "code",
   "execution_count": 17,
   "metadata": {},
   "outputs": [
    {
     "data": {
      "text/plain": [
       "dict_keys(['Year', 'Year-Month', 'Hour', 'PoliceUseOfForceID', 'CaseNumber', 'ResponseDate', 'Problem', 'Is911Call', 'PrimaryOffense', 'SubjectInjury', 'ForceReportNumber', 'SubjectRole', 'SubjectRoleNumber', 'ForceType', 'ForceTypeAction', 'Race', 'Sex', 'EventAge', 'TypeOfResistance', 'Precinct', 'Neighborhood', 'TotalCityCallsForYear', 'TotalPrecinctCallsForYear', 'TotalNeighborhoodCallsForYear', 'CenterGBSID', 'CenterLatitude', 'CenterLongitude', 'CenterX', 'CenterY', 'DateAdded', 'OBJECTID'])"
      ]
     },
     "execution_count": 17,
     "metadata": {},
     "output_type": "execute_result"
    }
   ],
   "source": [
    "new_dict.keys()"
   ]
  },
  {
   "cell_type": "code",
   "execution_count": null,
   "metadata": {},
   "outputs": [],
   "source": [
    "db_Table_Create = {}\n",
    "for key in new_dict.keys():\n",
    "    entry = f\"{key} TEXT\"\n",
    "    "
   ]
  },
  {
   "cell_type": "code",
   "execution_count": 39,
   "metadata": {},
   "outputs": [
    {
     "data": {
      "text/plain": [
       "'Year TEXT,Year-Month TEXT,Hour TEXT,PoliceUseOfForceID TEXT,CaseNumber TEXT,ResponseDate TEXT,Problem TEXT,Is911Call TEXT,PrimaryOffense TEXT,SubjectInjury TEXT,ForceReportNumber TEXT,SubjectRole TEXT,SubjectRoleNumber TEXT,ForceType TEXT,ForceTypeAction TEXT,Race TEXT,Sex TEXT,EventAge TEXT,TypeOfResistance TEXT,Precinct TEXT,Neighborhood TEXT,TotalCityCallsForYear TEXT,TotalPrecinctCallsForYear TEXT,TotalNeighborhoodCallsForYear TEXT,CenterGBSID TEXT,CenterLatitude TEXT,CenterLongitude TEXT,CenterX TEXT,CenterY TEXT,DateAdded TEXT,OBJECTID TEXT'"
      ]
     },
     "execution_count": 39,
     "metadata": {},
     "output_type": "execute_result"
    }
   ],
   "source": [
    "# Table Creation String\n",
    "db_Table_Create = [f\"{key} TEXT\" for key in new_dict.keys()]\n",
    "Create_Table_String = \",\".join(db_Table_Create)\n",
    "Create_Table_String"
   ]
  },
  {
   "cell_type": "code",
   "execution_count": 33,
   "metadata": {},
   "outputs": [
    {
     "name": "stdout",
     "output_type": "stream",
     "text": [
      "['2007', '2007-12', '19', 24543755, '08-000149', '2007-12-31', 'Code 3 ', 'No', 'MISC', None, 1, 'OT', 1, 'Bodily Force', 'Body Weight to Pin', 'White', 'Male', 39, 'Commission of Crime', '01', 'Downtown West', 322402, 46998, 23458, 17121, 44.980808, -93.273141, -10383118.5232, 5618500.6487, 1626941998000, 1]\n",
      "['2008', '2008-01', '21', 24543756, '08-002346', '2008-01-02', 'Theft ', 'Yes', 'BURGTL', 'No', 3, 'A', 1, 'Bodily Force', 'Knees', 'Other / Mixed Race', 'Male', 15, 'Fled on Foot', '04', 'Sumner - Glenwood', 322402, 80434, 1123, 16516, 44.98883, -93.29104, -10385111.0281, 5619763.1442, 1626941998000, 2]\n",
      "['2008', '2008-01', '21', 24543757, '08-014491', '2008-01-14', 'Check the Welfare ', 'No', 'CIC', 'No', 1, 'OT', 1, 'Taser', 'Firing Darts', 'White', 'Male', 29, 'Verbal Non-Compliance', '04', 'Cleveland', 322402, 80434, 2992, 10361, 45.022277, -93.310208, -10387244.8903, 5625029.1676, 1626941998000, 3]\n"
     ]
    }
   ],
   "source": [
    "# Populate Database\n",
    "x=0\n",
    "for x in range(3):\n",
    "    print([new_dict[key][x] for key in new_dict.keys()])"
   ]
  },
  {
   "cell_type": "code",
   "execution_count": null,
   "metadata": {},
   "outputs": [],
   "source": []
  },
  {
   "cell_type": "code",
   "execution_count": null,
   "metadata": {},
   "outputs": [],
   "source": []
  },
  {
   "cell_type": "code",
   "execution_count": 22,
   "metadata": {},
   "outputs": [
    {
     "data": {
      "text/plain": [
       "{'x': -93.2969048626618, 'y': 44.92590912407578}"
      ]
     },
     "execution_count": 22,
     "metadata": {},
     "output_type": "execute_result"
    }
   ],
   "source": [
    "response_json[\"features\"][0]['geometry']"
   ]
  },
  {
   "cell_type": "code",
   "execution_count": 32,
   "metadata": {},
   "outputs": [],
   "source": [
    "b = response_json[\"features\"][0]['attributes']['ResponseDate']"
   ]
  },
  {
   "cell_type": "code",
   "execution_count": null,
   "metadata": {},
   "outputs": [],
   "source": [
    "# Map Data Table - CaseNumber, Lat, Long, Neighborhood, Precinct\n",
    "# Incident Data Table - everything else"
   ]
  },
  {
   "cell_type": "code",
   "execution_count": 11,
   "metadata": {},
   "outputs": [],
   "source": [
    "import sqlite3"
   ]
  },
  {
   "cell_type": "code",
   "execution_count": 14,
   "metadata": {},
   "outputs": [],
   "source": [
    "connection = sqlite3.connect('MNPDUseofForce.db')"
   ]
  },
  {
   "cell_type": "code",
   "execution_count": 15,
   "metadata": {},
   "outputs": [],
   "source": [
    "cursor = connection.cursor()"
   ]
  },
  {
   "cell_type": "code",
   "execution_count": 16,
   "metadata": {},
   "outputs": [],
   "source": [
    "cursor.execute('''CREATE TABLE IF NOT EXISTS Shows\n",
    "              (Title TEXT, Director TEXT, Year INT)''')\n",
    "\n",
    "connection.commit()\n",
    "connection.close()"
   ]
  },
  {
   "cell_type": "code",
   "execution_count": null,
   "metadata": {},
   "outputs": [],
   "source": [
    "# cursor.execute(\"INSERT INTO Shows VALUES ('Stranger Things', 'Shawn Levy', 2016)\")"
   ]
  }
 ],
 "metadata": {
  "kernelspec": {
   "display_name": "Python 3",
   "language": "python",
   "name": "python3"
  },
  "language_info": {
   "codemirror_mode": {
    "name": "ipython",
    "version": 3
   },
   "file_extension": ".py",
   "mimetype": "text/x-python",
   "name": "python",
   "nbconvert_exporter": "python",
   "pygments_lexer": "ipython3",
   "version": "3.8.5"
  }
 },
 "nbformat": 4,
 "nbformat_minor": 4
}
