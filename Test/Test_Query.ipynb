{
 "cells": [
  {
   "cell_type": "code",
   "execution_count": 31,
   "metadata": {},
   "outputs": [],
   "source": [
    "from sqlalchemy import create_engine"
   ]
  },
  {
   "cell_type": "code",
   "execution_count": 104,
   "metadata": {},
   "outputs": [],
   "source": [
    "engine = create_engine(\"sqlite:///MNPDUseofForce.sqlite\")\n",
    "data = engine.execute(\"SELECT Year, Count(PoliceUseOfForceID) FROM MNPD_tbl GROUP BY Year\")\n",
    "Problem_List = [(int(Year), int(Force_Use)) for Year, Force_Use in list(data)]"
   ]
  },
  {
   "cell_type": "code",
   "execution_count": 101,
   "metadata": {},
   "outputs": [
    {
     "data": {
      "text/plain": [
       "[('2007', 11),\n",
       " ('2008', 2879),\n",
       " ('2009', 2284),\n",
       " ('2010', 1776),\n",
       " ('2011', 1571),\n",
       " ('2012', 998),\n",
       " ('2013', 438),\n",
       " ('2014', 45)]"
      ]
     },
     "execution_count": 101,
     "metadata": {},
     "output_type": "execute_result"
    }
   ],
   "source": [
    "list(data)"
   ]
  },
  {
   "cell_type": "code",
   "execution_count": 105,
   "metadata": {},
   "outputs": [
    {
     "data": {
      "text/plain": [
       "[(2007, 11),\n",
       " (2008, 2879),\n",
       " (2009, 2284),\n",
       " (2010, 1776),\n",
       " (2011, 1571),\n",
       " (2012, 998),\n",
       " (2013, 438),\n",
       " (2014, 45)]"
      ]
     },
     "execution_count": 105,
     "metadata": {},
     "output_type": "execute_result"
    }
   ],
   "source": [
    "Problem_List"
   ]
  },
  {
   "cell_type": "code",
   "execution_count": null,
   "metadata": {},
   "outputs": [],
   "source": []
  }
 ],
 "metadata": {
  "kernelspec": {
   "display_name": "Python 3",
   "language": "python",
   "name": "python3"
  },
  "language_info": {
   "codemirror_mode": {
    "name": "ipython",
    "version": 3
   },
   "file_extension": ".py",
   "mimetype": "text/x-python",
   "name": "python",
   "nbconvert_exporter": "python",
   "pygments_lexer": "ipython3",
   "version": "3.8.5"
  }
 },
 "nbformat": 4,
 "nbformat_minor": 4
}
